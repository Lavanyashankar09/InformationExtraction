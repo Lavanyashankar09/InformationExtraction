{
 "cells": [
  {
   "cell_type": "code",
   "execution_count": 22,
   "id": "0fbfa803",
   "metadata": {},
   "outputs": [
    {
     "name": "stdout",
     "output_type": "stream",
     "text": [
      "[19  7  4 ...  0 24 18]\n",
      "<class 'numpy.ndarray'>\n",
      "(30000,)\n"
     ]
    }
   ],
   "source": [
    "import numpy as np\n",
    "\n",
    "#Start\n",
    "#its same for both\n",
    "Initial = np.array([0.5, 0.5])\n",
    "\n",
    "#its Hidden\n",
    "#Transition\n",
    "Transition_p = np.array([[0.49, 0.51], [0.51, 0.49]])\n",
    "# print(Transition_p)\n",
    "# print(Transition_p.shape)\n",
    "\n",
    "#its Observation\n",
    "#Emission\n",
    "Emission_q = np.zeros((2, 27))\n",
    "Emission_q[0,0:13] = 0.0370\n",
    "Emission_q[1,0:12] = 0.0371\n",
    "Emission_q[0,13:26] = 0.0371\n",
    "Emission_q[1,13:26] = 0.0370\n",
    "Emission_q[0,26] = 0.0367\n",
    "Emission_q[1,26] = 0.0367\n",
    "# print(Emission_q)\n",
    "# print(Emission_q.shape)\n",
    "\n",
    "#Its output sequence \n",
    "#Observation Sequence\n",
    "file_path = 'textA.txt'  \n",
    "with open(file_path, 'r') as file:\n",
    "    content = file.read()\n",
    "\n",
    "# Convert each lowercase alphabet and space to its numeric value\n",
    "numeric_values = [(ord(char.lower()) - ord('a')) if char.isalpha() else 26 for char in content]\n",
    "Obs_seq_y = np.array(numeric_values)\n",
    "# Display the result\n",
    "print(Obs_seq_y)\n",
    "print(type(Obs_seq_y))\n",
    "print(Obs_seq_y.shape)"
   ]
  },
  {
   "cell_type": "code",
   "execution_count": 28,
   "id": "36de3a28",
   "metadata": {},
   "outputs": [
    {
     "name": "stdout",
     "output_type": "stream",
     "text": [
      "[[0.01855     nan     nan ...     nan     nan     nan]\n",
      " [0.0185      nan     nan ...     nan     nan     nan]]\n"
     ]
    },
    {
     "name": "stderr",
     "output_type": "stream",
     "text": [
      "/var/folders/bv/c7b6nvgj05s7ftxp8534dp0w0000gn/T/ipykernel_5406/3980396078.py:27: RuntimeWarning: invalid value encountered in divide\n",
      "  alpha[:, n] = alpha[:, n] / norm1\n"
     ]
    }
   ],
   "source": [
    "#forward Algo\n",
    "\n",
    "num_states = 2\n",
    "len_obs_seq = len(Obs_seq_y)\n",
    "# print(len_obs_seq)\n",
    "alpha = np.zeros((num_states, len_obs_seq))\n",
    "# print(alpha)\n",
    "# print(alpha.shape)\n",
    "\n",
    "alpha[:, 0] = np.multiply(Initial, Emission_q[:, Obs_seq_y[0]]) #first colum\n",
    "\n",
    "# print(\"alpha[:, 0]\",alpha[:, 0])\n",
    "# print(\"Obs_seq_y[0]\",Obs_seq_y[0])\n",
    "# print(\"Emission_q[:, Obs_seq_y[0]]\",Emission_q[:, Obs_seq_y[0]])\n",
    "\n",
    "\n",
    "norm = [1]\n",
    "\n",
    "for n in range(1, len_obs_seq):\n",
    "    for s_n in range(num_states):\n",
    "        for s_n_1 in range(num_states):\n",
    "            alpha[s_n, n] += alpha[s_n_1, len_obs_seq-1] * Transition_p[s_n_1, s_n] * Emission_q[s_n, Obs_seq_y[n]]\n",
    "    \n",
    "    # Normalising \n",
    "    norm1 = np.sum(alpha[:, n])\n",
    "    norm.append(norm1)\n",
    "    alpha[:, n] = alpha[:, n] / norm1\n",
    "print(alpha)\n",
    "\n"
   ]
  },
  {
   "cell_type": "code",
   "execution_count": 27,
   "id": "de0dfb6a",
   "metadata": {},
   "outputs": [
    {
     "ename": "IndexError",
     "evalue": "list index out of range",
     "output_type": "error",
     "traceback": [
      "\u001b[0;31m---------------------------------------------------------------------------\u001b[0m",
      "\u001b[0;31mIndexError\u001b[0m                                Traceback (most recent call last)",
      "Cell \u001b[0;32mIn[27], line 9\u001b[0m\n\u001b[1;32m      6\u001b[0m         \u001b[38;5;28;01mfor\u001b[39;00m s_n_1 \u001b[38;5;129;01min\u001b[39;00m \u001b[38;5;28mrange\u001b[39m(num_states):\n\u001b[1;32m      7\u001b[0m             beta[s_n, n] \u001b[38;5;241m+\u001b[39m\u001b[38;5;241m=\u001b[39m beta[s_n_1, n\u001b[38;5;241m+\u001b[39m\u001b[38;5;241m1\u001b[39m] \u001b[38;5;241m*\u001b[39m Transition_p[s_n, s_n_1] \u001b[38;5;241m*\u001b[39m Emission_q[s_n_1, Obs_seq_y[n\u001b[38;5;241m+\u001b[39m\u001b[38;5;241m1\u001b[39m]]\n\u001b[0;32m----> 9\u001b[0m     beta[:, n] \u001b[38;5;241m=\u001b[39m beta[:, n] \u001b[38;5;241m/\u001b[39m norm[n\u001b[38;5;241m+\u001b[39m\u001b[38;5;241m1\u001b[39m]\n\u001b[1;32m     10\u001b[0m \u001b[38;5;28mprint\u001b[39m(beta)\n",
      "\u001b[0;31mIndexError\u001b[0m: list index out of range"
     ]
    }
   ],
   "source": [
    "beta = np.zeros((num_states, len_obs_seq))\n",
    "beta[:, len_obs_seq-1] = 1\n",
    "\n",
    "for n in range(len_obs_seq-2, -1, -1):\n",
    "    for s_n in range(num_states):\n",
    "        for s_n_1 in range(num_states):\n",
    "            beta[s_n, n] += beta[s_n_1, n+1] * Transition_p[s_n, s_n_1] * Emission_q[s_n_1, Obs_seq_y[n+1]]\n",
    "       \n",
    "    # Normalising \n",
    "    beta[:, n] = beta[:, n] / norm[n+1]\n",
    "print(beta)"
   ]
  },
  {
   "cell_type": "code",
   "execution_count": null,
   "id": "3b5693c0",
   "metadata": {},
   "outputs": [],
   "source": []
  }
 ],
 "metadata": {
  "kernelspec": {
   "display_name": "Python 3 (ipykernel)",
   "language": "python",
   "name": "python3"
  },
  "language_info": {
   "codemirror_mode": {
    "name": "ipython",
    "version": 3
   },
   "file_extension": ".py",
   "mimetype": "text/x-python",
   "name": "python",
   "nbconvert_exporter": "python",
   "pygments_lexer": "ipython3",
   "version": "3.11.5"
  }
 },
 "nbformat": 4,
 "nbformat_minor": 5
}
