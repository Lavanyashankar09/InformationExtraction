{
 "cells": [
  {
   "cell_type": "code",
   "execution_count": 3,
   "id": "3d2403ff",
   "metadata": {},
   "outputs": [
    {
     "ename": "SyntaxError",
     "evalue": "invalid syntax (2313098308.py, line 3)",
     "output_type": "error",
     "traceback": [
      "\u001b[0;36m  Cell \u001b[0;32mIn[3], line 3\u001b[0;36m\u001b[0m\n\u001b[0;31m    let hiddenStates = [\u001b[0m\n\u001b[0m        ^\u001b[0m\n\u001b[0;31mSyntaxError\u001b[0m\u001b[0;31m:\u001b[0m invalid syntax\n"
     ]
    }
   ],
   "source": [
    "var maryMarkov = require(\"mary-markov\")\n",
    "\n",
    "let hiddenStates = [    \n",
    "    {state: 'Sunny', prob: [0.8, 0.2]},    \n",
    "    {state: 'Rainy', prob: [0.4, 0.6]}     \n",
    "];\n",
    "\n",
    "let observables = [    \n",
    "    {obs: 'Paint', prob: [0.4, 0.3]},    \n",
    "    {obs: 'Clean', prob: [0.1, 0.45]},    \n",
    "    {obs: 'Shop', prob: [0.2, 0.2]},    \n",
    "    {obs: 'Bike', prob: [0.3, 0.05]}    \n",
    "];\n",
    "\n",
    "let hiddenInit = [0.6, 0.4];\n",
    "\n",
    "let LeaHMModel = maryMarkov.HMM(hiddenStates, observables, hiddenInit);\n",
    "\n",
    "let obSequence = ['Paint','Clean','Shop','Bike']; \n",
    "\n",
    "let forwardProbability = LeaHMModel.forwardAlgorithm(obSequence);\n",
    "console.log(forwardProbability.alphaF);\n",
    "//0.0031560000000000004\n",
    "\n",
    "let backwardProbability = LeaHMModel.backwardAlgorithm(obSequence);\n",
    "console.log(backwardProbability.betaF); \n",
    "//0.003156000000000001"
   ]
  },
  {
   "cell_type": "code",
   "execution_count": null,
   "id": "8da950a3",
   "metadata": {},
   "outputs": [],
   "source": []
  }
 ],
 "metadata": {
  "kernelspec": {
   "display_name": "Python 3 (ipykernel)",
   "language": "python",
   "name": "python3"
  },
  "language_info": {
   "codemirror_mode": {
    "name": "ipython",
    "version": 3
   },
   "file_extension": ".py",
   "mimetype": "text/x-python",
   "name": "python",
   "nbconvert_exporter": "python",
   "pygments_lexer": "ipython3",
   "version": "3.11.5"
  }
 },
 "nbformat": 4,
 "nbformat_minor": 5
}
