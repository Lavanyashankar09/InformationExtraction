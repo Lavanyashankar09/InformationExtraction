{
 "cells": [
  {
   "cell_type": "code",
   "execution_count": 96,
   "id": "ec4b48b3",
   "metadata": {},
   "outputs": [
    {
     "name": "stdout",
     "output_type": "stream",
     "text": [
      "ALPHA 0 \n",
      " [[1 0 0]]\n",
      "ALPHA 1 \n",
      " [[0.52777778]\n",
      " [0.08333333]\n",
      " [0.28240741]]\n",
      "ALPHA 2 \n",
      " [[0.25      ]\n",
      " [0.11458333]\n",
      " [0.09837963]]\n",
      "ALPHA 3 \n",
      " [[0.08892747]\n",
      " [0.04542824]\n",
      " [0.05542695]]\n",
      "ALPHA 4 \n",
      " [[0.04446373]\n",
      " [0.00741062]\n",
      " [0.01986883]]\n"
     ]
    }
   ],
   "source": [
    "# 3 terms:\n",
    "# the first term corresponds to taking no null transitions\n",
    "# the second corresponds to taking 1 null transition\n",
    "# The third corresponds to taking 2 null transitions (np.dot(Q, Q))  applying the null transition matrix twice.\n",
    "\n",
    "import numpy as np\n",
    "\n",
    "A = np.array([[1/2, 1/6, 1/6], [0, 0, 1/3], [3/4, 1/4, 0]])\n",
    "\n",
    "B = np.array([[[1, 1/2, 1], [0, 0, 1/3], [0, 0, 0]], [[0, 1/2, 0], [1, 1, 2/3], [1, 1, 1]]])\n",
    "\n",
    "Q = np.array([[0, 0, 1/6], [1/3, 0, 1/3], [0, 0, 0]])\n",
    "\n",
    "alpha_0 = np.array([[1, 0, 0]])\n",
    "print(\"ALPHA 0 \\n\",alpha_0) \n",
    "\n",
    "alpha_1_prime = np.dot((A * B[0]).T, alpha_0.T)\n",
    "# print(\"ALPHA 1 PRIME\",alpha_1_prime)\n",
    "\n",
    "# print(\"alpha 0 shape\",alpha_0.shape)\n",
    "# print(\"A shape\",A.shape)\n",
    "# print(\"B 0 shape\",B[0].shape)\n",
    "# print(\"alpha prime shape\", alpha_1_prime.shape)\n",
    "\n",
    "alpha_1 = alpha_1_prime + np.dot(Q.T, alpha_1_prime) + np.dot(np.dot(Q, Q).T, alpha_1_prime)\n",
    "print(\"ALPHA 1 \\n\",alpha_1)     \n",
    "\n",
    "alpha_2_prime = np.dot((A * B[1]).T, alpha_1)\n",
    "# print(\"ALPHA 2 PRIME\",alpha_2_prime)\n",
    "alpha_2 = alpha_2_prime + np.dot(Q.T, alpha_2_prime) + np.dot(np.dot(Q, Q).T, alpha_2_prime)\n",
    "print(\"ALPHA 2 \\n\",alpha_2)\n",
    "\n",
    "alpha_3_prime = np.dot((A * B[1]).T, alpha_2)\n",
    "# print(\"ALPHA 3 PRIME\",alpha_3_prime)\n",
    "alpha_3 = alpha_3_prime + np.dot(Q.T, alpha_3_prime) + np.dot(np.dot(Q, Q).T, alpha_3_prime)\n",
    "print(\"ALPHA 3 \\n\",alpha_3)\n",
    "\n",
    "alpha_4_prime = np.dot((A * B[0]).T, alpha_3)\n",
    "print(\"ALPHA 4 \\n\",alpha_4_prime)"
   ]
  },
  {
   "cell_type": "code",
   "execution_count": 113,
   "id": "d6e14137",
   "metadata": {},
   "outputs": [
    {
     "name": "stdout",
     "output_type": "stream",
     "text": [
      "[0.07174318]\n"
     ]
    }
   ],
   "source": [
    "marginal = alpha_4_prime.sum(axis=0)\n",
    "print(marginal)"
   ]
  },
  {
   "cell_type": "code",
   "execution_count": 112,
   "id": "b7861bc1",
   "metadata": {},
   "outputs": [
    {
     "name": "stdout",
     "output_type": "stream",
     "text": [
      "Element 1: 0.08892746913580248\n",
      "Element 2: 0.04542824074074074\n",
      "Element 3: 0.05542695473251028\n",
      "state 3 ---  0.0009358156820529508\n",
      "state 4 [[0.04693394]\n",
      " [0.00741062]\n",
      " [0.03016136]]\n",
      "sum of state 4 [0.08450592]\n"
     ]
    }
   ],
   "source": [
    "\n",
    "element_1 = alpha_3[0, 0]  \n",
    "element_2 = alpha_3[1, 0]  \n",
    "element_3 = alpha_3[2, 0]\n",
    "print(\"Element 1:\", element_1)\n",
    "print(\"Element 2:\", element_2)\n",
    "print(\"Element 3:\", element_3)\n",
    "\n",
    "state_3_1 = alpha_3[0, 0] * beta_3[0, 0]\n",
    "state_3_2 = alpha_3[1, 0] * beta_3[1, 0]\n",
    "state_3_3 = alpha_3[2, 0] * beta_3[2, 0]\n",
    "\n",
    "print(\"state 3 --- \",state_3_1+state_3_2+state_3_3)\n",
    "\n",
    "state_4 = alpha_4 * beta_4.T\n",
    "print(\"state 4\", state_4)\n",
    "print(\"sum of state 4\", state_4.sum(axis=0))"
   ]
  },
  {
   "cell_type": "code",
   "execution_count": null,
   "id": "92202a60",
   "metadata": {},
   "outputs": [],
   "source": []
  },
  {
   "cell_type": "code",
   "execution_count": null,
   "id": "f243820f",
   "metadata": {},
   "outputs": [],
   "source": [
    "beta_4 = np.array([[1, 1, 1]])\n",
    "print(\"BETA 4\",beta_4) \n",
    "\n",
    "beta_3_prime = np.dot((A * B[0]).T, beta_4.T)\n",
    "beta_3 = beta_3_prime + np.dot(Q.T, beta_3_prime) + np.dot(np.dot(Q, Q).T, beta_3_prime)\n",
    "print(\"BETA 3\",beta_3)    \n",
    "\n",
    "beta_2_prime = np.dot((A * B[1]).T, beta_3)\n",
    "beta_2 = beta_2_prime + np.dot(Q.T, beta_2_prime) + np.dot(np.dot(Q, Q).T, beta_2_prime)\n",
    "print(\"BETA 2\",beta_2) \n",
    "\n",
    "beta_1_prime = np.dot((A * B[1]).T, beta_2)\n",
    "beta_1 = beta_2_prime + np.dot(Q.T, beta_1_prime) + np.dot(np.dot(Q, Q).T, beta_1_prime)\n",
    "print(\"BETA 1\",beta_1) \n",
    "\n",
    "beta_0_prime = np.dot((A * B[0]).T, beta_1)\n",
    "beta_0 = beta_0_prime + np.dot(Q.T, beta_0_prime) + np.dot(np.dot(Q, Q).T, beta_0_prime)\n",
    "print(\"BETA 0\",beta_0) \n"
   ]
  }
 ],
 "metadata": {
  "kernelspec": {
   "display_name": "Python 3 (ipykernel)",
   "language": "python",
   "name": "python3"
  },
  "language_info": {
   "codemirror_mode": {
    "name": "ipython",
    "version": 3
   },
   "file_extension": ".py",
   "mimetype": "text/x-python",
   "name": "python",
   "nbconvert_exporter": "python",
   "pygments_lexer": "ipython3",
   "version": "3.11.5"
  }
 },
 "nbformat": 4,
 "nbformat_minor": 5
}
